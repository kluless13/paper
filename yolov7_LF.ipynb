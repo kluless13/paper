{
  "cells": [
    {
      "cell_type": "markdown",
      "metadata": {
        "colab_type": "text",
        "id": "view-in-github"
      },
      "source": [
        "<a href=\"https://colab.research.google.com/github/kluless13/paper/blob/main/yolov7.ipynb\" target=\"_parent\"><img src=\"https://colab.research.google.com/assets/colab-badge.svg\" alt=\"Open In Colab\"/></a>"
      ]
    },
    {
      "cell_type": "markdown",
      "metadata": {
        "id": "NAoyBCYqroEW"
      },
      "source": [
        "## 1. Install dependencies"
      ]
    },
    {
      "attachments": {},
      "cell_type": "markdown",
      "metadata": {
        "id": "bggwUtafsGuE"
      },
      "source": [
        "#### 1.1. Installing dependencies"
      ]
    },
    {
      "cell_type": "code",
      "execution_count": 5,
      "metadata": {
        "colab": {
          "base_uri": "https://localhost:8080/"
        },
        "id": "zlByE4TRsP76",
        "outputId": "cd264ef9-409f-49db-a5b1-ae93c1bf7dd7"
      },
      "outputs": [
        {
          "name": "stdout",
          "output_type": "stream",
          "text": [
            "/content/gdrive/MyDrive\n"
          ]
        }
      ],
      "source": [
        "import os\n",
        "HOME = \"/content/gdrive/MyDrive\"\n",
        "print(HOME)"
      ]
    },
    {
      "cell_type": "code",
      "execution_count": null,
      "metadata": {
        "id": "LNYI9lljw872"
      },
      "outputs": [],
      "source": [
        "!pip install -r reqs1.txt\n",
        "!pip install roboflow"
      ]
    },
    {
      "attachments": {},
      "cell_type": "markdown",
      "metadata": {},
      "source": [
        "## 2. Path to training  \n",
        "5 versions of YOLOv7 = 5 directories with the train/val/test.py scripts"
      ]
    },
    {
      "attachments": {},
      "cell_type": "markdown",
      "metadata": {},
      "source": [
        "### 2.1. Training on the dataset"
      ]
    },
    {
      "cell_type": "code",
      "execution_count": null,
      "metadata": {
        "id": "uaCbHJnZt88j"
      },
      "outputs": [],
      "source": [
        "# Setting path to operational directory\n",
        "\n",
        "# For yolov7 base:\n",
        " \n",
        "%cd {HOME}\n",
        "%mkdir yolov7-base\n",
        "%cd {HOME}/yolov7-base\n",
        "!gitclone \n",
        "\n",
        "# Getting the weights too\n",
        "!wget -P {HOME}/yolov7-base https://github.com/WongKinYiu/yolov7/releases/download/v0.1/yolov7.pt\n",
        "\n",
        "# Roboflow API into yolov7-base\n",
        "from Roboflow import roboflow\n",
        "# and so on"
      ]
    },
    {
      "cell_type": "code",
      "execution_count": null,
      "metadata": {},
      "outputs": [],
      "source": [
        "# Now that we have our data and scripts in the same place, we run training.\n",
        "\n",
        "!python train.py --batch 16 --cfg cfg/training/yolov7.yaml --epochs 55 --data {dataset.location}/data.yaml --weights 'yolov7.pt' --device 0"
      ]
    },
    {
      "attachments": {},
      "cell_type": "markdown",
      "metadata": {},
      "source": [
        "### 2.2. Running evaluation metrics\n",
        "\n",
        "The evaluation metrics are F1, mAP, P, R, PR and Accuracy."
      ]
    },
    {
      "cell_type": "code",
      "execution_count": null,
      "metadata": {},
      "outputs": [],
      "source": [
        "%cd {HOME}/yolov7-base\n",
        "\n",
        "from IPython.display import Image\n",
        "\n",
        "display(Image(\"{HOME}/yolov7/runs/train/exp/F1_curve.png\", width=400, height=400)) #F1 score\n",
        "display(Image(\"{HOME}/yolov7/runs/train/exp/PR_curve.png\", width=400, height=400)) #PR curve\n",
        "display(Image(\"{HOME}/yolov7/runs/train/exp/confusion_matrix.png\", width=500, height=500)) # Confusion matrix\n",
        "display(Image(\"{HOME}/yolov7/runs/train/exp/Accuracy.png\", width=500, height=500)) # Accuracy\n",
        "display(Image(\"{HOME}/yolov7/runs/train/exp/P_curve.png\", width=500, height=500)) # Precision\n",
        "display(Image(\"{HOME}/yolov7/runs/train/exp/R_curve.png\", width=500, height=500)) # Recall\n",
        "display(Image(\"{HOME}/yolov7/runs/train/exp/mAP_curve.png\", width=500, height=500)) # mAP score"
      ]
    },
    {
      "attachments": {},
      "cell_type": "markdown",
      "metadata": {},
      "source": [
        "### 2.3. Running inferences on custom video\n",
        "\n",
        "Import video footage to be able to witness the code in action."
      ]
    },
    {
      "cell_type": "code",
      "execution_count": null,
      "metadata": {},
      "outputs": [],
      "source": [
        "%cd {HOME}/yolo7-base\n",
        "\n",
        "video_path = \"\""
      ]
    },
    {
      "cell_type": "code",
      "execution_count": null,
      "metadata": {},
      "outputs": [],
      "source": [
        "# Initializing video object\n",
        "video = cv2.VideoCapture(video_path)\n",
        "\n",
        "\n",
        "#Video information\n",
        "fps = video.get(cv2.CAP_PROP_FPS)\n",
        "w = int(video.get(cv2.CAP_PROP_FRAME_WIDTH))\n",
        "h = int(video.get(cv2.CAP_PROP_FRAME_HEIGHT))\n",
        "nframes = int(video.get(cv2.CAP_PROP_FRAME_COUNT))\n",
        "\n",
        "# Initialzing object for writing video output\n",
        "output = cv2.VideoWriter('output.mp4', cv2.VideoWriter_fourcc(*'DIVX'),fps , (w,h))\n",
        "torch.cuda.empty_cache()\n",
        "# Initializing model and setting it for inference\n",
        "with torch.no_grad():\n",
        "  weights, imgsz = opt['weights'], opt['img-size']\n",
        "  set_logging()\n",
        "  device = select_device(opt['device'])\n",
        "  half = device.type != 'cpu'\n",
        "  model = attempt_load(weights, map_location=device)  # load FP32 model\n",
        "  stride = int(model.stride.max())  # model stride\n",
        "  imgsz = check_img_size(imgsz, s=stride)  # check img_size\n",
        "  if half:\n",
        "    model.half()\n",
        "\n",
        "  names = model.module.names if hasattr(model, 'module') else model.names\n",
        "  colors = [[random.randint(0, 255) for _ in range(3)] for _ in names]\n",
        "  if device.type != 'cpu':\n",
        "    model(torch.zeros(1, 3, imgsz, imgsz).to(device).type_as(next(model.parameters())))\n",
        "\n",
        "  classes = None\n",
        "  if opt['classes']:\n",
        "    classes = []\n",
        "    for class_name in opt['classes']:\n",
        "      classes.append(opt['classes'].index(class_name))\n",
        "\n",
        "  for j in range(nframes):\n",
        "\n",
        "      ret, img0 = video.read()\n",
        "      if ret:\n",
        "        img = letterbox(img0, imgsz, stride=stride)[0]\n",
        "        img = img[:, :, ::-1].transpose(2, 0, 1)  # BGR to RGB, to 3x416x416\n",
        "        img = np.ascontiguousarray(img)\n",
        "        img = torch.from_numpy(img).to(device)\n",
        "        img = img.half() if half else img.float()  # uint8 to fp16/32\n",
        "        img /= 255.0  # 0 - 255 to 0.0 - 1.0\n",
        "        if img.ndimension() == 3:\n",
        "          img = img.unsqueeze(0)\n",
        "\n",
        "        # Inference\n",
        "        t1 = time_synchronized()\n",
        "        pred = model(img, augment= False)[0]\n",
        "\n",
        "        \n",
        "        pred = non_max_suppression(pred, opt['conf-thres'], opt['iou-thres'], classes= classes, agnostic= False)\n",
        "        t2 = time_synchronized()\n",
        "        for i, det in enumerate(pred):\n",
        "          s = ''\n",
        "          s += '%gx%g ' % img.shape[2:]  # print string\n",
        "          gn = torch.tensor(img0.shape)[[1, 0, 1, 0]]\n",
        "          if len(det):\n",
        "            det[:, :4] = scale_coords(img.shape[2:], det[:, :4], img0.shape).round()\n",
        "\n",
        "            for c in det[:, -1].unique():\n",
        "              n = (det[:, -1] == c).sum()  # detections per class\n",
        "              s += f\"{n} {names[int(c)]}{'s' * (n > 1)}, \"  # add to string\n",
        "    \n",
        "            for *xyxy, conf, cls in reversed(det):\n",
        "\n",
        "              label = f'{names[int(cls)]} {conf:.2f}'\n",
        "              plot_one_box(xyxy, img0, label=label, color=colors[int(cls)], line_thickness=3)\n",
        "        \n",
        "        print(f\"{j+1}/{nframes} frames processed\")\n",
        "        output.write(img0)\n",
        "      else:\n",
        "        break\n",
        "    \n",
        "\n",
        "output.release()\n",
        "video.release()"
      ]
    }
  ],
  "metadata": {
    "colab": {
      "authorship_tag": "ABX9TyPMuTging3eFxFzdJ+gdpTP",
      "include_colab_link": true,
      "provenance": [],
      "toc_visible": true
    },
    "kernelspec": {
      "display_name": "Python 3",
      "name": "python3"
    },
    "language_info": {
      "name": "python"
    }
  },
  "nbformat": 4,
  "nbformat_minor": 0
}
