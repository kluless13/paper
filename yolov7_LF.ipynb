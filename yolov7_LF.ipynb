{
  "cells": [
    {
      "cell_type": "markdown",
      "metadata": {
        "colab_type": "text",
        "id": "view-in-github"
      },
      "source": [
        "<a href=\"https://colab.research.google.com/github/kluless13/paper/blob/main/yolov7.ipynb\" target=\"_parent\"><img src=\"https://colab.research.google.com/assets/colab-badge.svg\" alt=\"Open In Colab\"/></a>"
      ]
    },
    {
      "cell_type": "markdown",
      "metadata": {
        "id": "NAoyBCYqroEW"
      },
      "source": [
        "## 1. Install dependencies"
      ]
    },
    {
      "attachments": {},
      "cell_type": "markdown",
      "metadata": {
        "id": "bggwUtafsGuE"
      },
      "source": [
        "#### 1.1. Installing dependencies"
      ]
    },
    {
      "cell_type": "code",
      "execution_count": 5,
      "metadata": {
        "colab": {
          "base_uri": "https://localhost:8080/"
        },
        "id": "zlByE4TRsP76",
        "outputId": "cd264ef9-409f-49db-a5b1-ae93c1bf7dd7"
      },
      "outputs": [
        {
          "name": "stdout",
          "output_type": "stream",
          "text": [
            "/content/gdrive/MyDrive\n"
          ]
        }
      ],
      "source": [
        "import os\n",
        "HOME = \"/content/gdrive/MyDrive\"\n",
        "print(HOME)"
      ]
    },
    {
      "cell_type": "code",
      "execution_count": null,
      "metadata": {
        "id": "LNYI9lljw872"
      },
      "outputs": [],
      "source": [
        "!pip install -r reqs1.txt\n",
        "!pip install roboflow"
      ]
    },
    {
      "attachments": {},
      "cell_type": "markdown",
      "metadata": {},
      "source": [
        "## 2. Path to training  \n",
        "5 versions of YOLOv7 = 5 directories with the train/val/test.py scripts"
      ]
    },
    {
      "attachments": {},
      "cell_type": "markdown",
      "metadata": {},
      "source": [
        "### 2.1. Training on the dataset"
      ]
    },
    {
      "cell_type": "code",
      "execution_count": null,
      "metadata": {
        "id": "uaCbHJnZt88j"
      },
      "outputs": [],
      "source": [
        "# Setting path to operational directory\n",
        "\n",
        "# For yolov7 base:\n",
        " \n",
        "%cd {HOME}\n",
        "%mkdir yolov7-base\n",
        "%cd {HOME}/yolov7-base\n",
        "!gitclone # yolo directory\n",
        "\n",
        "# Getting the weights too\n",
        "!wget -P {HOME}/yolov7-base https://github.com/WongKinYiu/yolov7/releases/download/v0.1/yolov7.pt\n",
        "\n",
        "# Roboflow API into yolov7-base\n",
        "from Roboflow import roboflow\n",
        "# and so on"
      ]
    },
    {
      "cell_type": "code",
      "execution_count": null,
      "metadata": {},
      "outputs": [],
      "source": [
        "# Now that we have our data and scripts in the same place, we run training.\n",
        "\n",
        "!python train.py --batch 16 --cfg cfg/training/yolov7.yaml --epochs 55 --data {dataset.location}/data.yaml --weights 'yolov7.pt' --device 0"
      ]
    },
    {
      "attachments": {},
      "cell_type": "markdown",
      "metadata": {},
      "source": [
        "### 2.2. Running evaluation metrics\n",
        "\n",
        "The evaluation metrics are F1, mAP, P, R, PR and Accuracy."
      ]
    },
    {
      "cell_type": "code",
      "execution_count": null,
      "metadata": {},
      "outputs": [],
      "source": [
        "%cd {HOME}/yolov7-base\n",
        "\n",
        "from IPython.display import Image\n",
        "\n",
        "display(Image(\"{HOME}/yolov7/runs/train/exp/F1_curve.png\", width=400, height=400)) #F1 score\n",
        "display(Image(\"{HOME}/yolov7/runs/train/exp/PR_curve.png\", width=400, height=400)) #PR curve\n",
        "display(Image(\"{HOME}/yolov7/runs/train/exp/confusion_matrix.png\", width=500, height=500)) # Confusion matrix\n",
        "display(Image(\"{HOME}/yolov7/runs/train/exp/Accuracy.png\", width=500, height=500)) # Accuracy\n",
        "display(Image(\"{HOME}/yolov7/runs/train/exp/P_curve.png\", width=500, height=500)) # Precision\n",
        "display(Image(\"{HOME}/yolov7/runs/train/exp/R_curve.png\", width=500, height=500)) # Recall\n",
        "display(Image(\"{HOME}/yolov7/runs/train/exp/mAP_curve.png\", width=500, height=500)) # mAP score"
      ]
    },
    {
      "attachments": {},
      "cell_type": "markdown",
      "metadata": {},
      "source": [
        "### 2.3. Running on custom video\n",
        "\n",
        "Import video footage to be able to witness the code in action."
      ]
    }
  ],
  "metadata": {
    "colab": {
      "authorship_tag": "ABX9TyPMuTging3eFxFzdJ+gdpTP",
      "include_colab_link": true,
      "provenance": [],
      "toc_visible": true
    },
    "kernelspec": {
      "display_name": "Python 3",
      "name": "python3"
    },
    "language_info": {
      "name": "python"
    }
  },
  "nbformat": 4,
  "nbformat_minor": 0
}
