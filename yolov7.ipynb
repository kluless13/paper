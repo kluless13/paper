{
  "nbformat": 4,
  "nbformat_minor": 0,
  "metadata": {
    "colab": {
      "provenance": [],
      "authorship_tag": "ABX9TyMets77TKBjK7xF+eQIKGg8",
      "include_colab_link": true
    },
    "kernelspec": {
      "name": "python3",
      "display_name": "Python 3"
    },
    "language_info": {
      "name": "python"
    }
  },
  "cells": [
    {
      "cell_type": "markdown",
      "metadata": {
        "id": "view-in-github",
        "colab_type": "text"
      },
      "source": [
        "<a href=\"https://colab.research.google.com/github/kluless13/paper/blob/main/yolov7.ipynb\" target=\"_parent\"><img src=\"https://colab.research.google.com/assets/colab-badge.svg\" alt=\"Open In Colab\"/></a>"
      ]
    },
    {
      "cell_type": "markdown",
      "source": [
        "## 1. Install dependencies"
      ],
      "metadata": {
        "id": "NAoyBCYqroEW"
      }
    },
    {
      "cell_type": "markdown",
      "source": [
        "#### 1.1. Mounting Drive"
      ],
      "metadata": {
        "id": "viYF6kIqr4LI"
      }
    },
    {
      "cell_type": "code",
      "source": [
        "from google.colab import drive\n",
        "drive.mount('/content/gdrive')"
      ],
      "metadata": {
        "id": "4KqgDlArr1sy"
      },
      "execution_count": null,
      "outputs": []
    },
    {
      "cell_type": "markdown",
      "source": [
        "#### 1.2. Installing dependencies"
      ],
      "metadata": {
        "id": "bggwUtafsGuE"
      }
    },
    {
      "cell_type": "code",
      "source": [
        "%cd /content/gdrive/MyDrive\n",
        "!git clone https://github.com/WongKinYiu/yolov7.git #[OG repo]\n",
        "%cd yolov7\n",
        "!pip install -r reqs1.txt\n",
        "!pip install roboflow"
      ],
      "metadata": {
        "id": "zlByE4TRsP76"
      },
      "execution_count": null,
      "outputs": []
    },
    {
      "cell_type": "markdown",
      "source": [
        "## 2. Dataset"
      ],
      "metadata": {
        "id": "-YbufC-ht2ME"
      }
    },
    {
      "cell_type": "code",
      "source": [
        "%cd /content/gdrive/Mydrive/yolov7\n",
        "\n",
        "# roboflow apis"
      ],
      "metadata": {
        "id": "uaCbHJnZt88j"
      },
      "execution_count": null,
      "outputs": []
    }
  ]
}