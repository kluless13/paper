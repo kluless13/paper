{
  "nbformat": 4,
  "nbformat_minor": 0,
  "metadata": {
    "colab": {
      "provenance": [],
      "toc_visible": true,
      "authorship_tag": "ABX9TyPMuTging3eFxFzdJ+gdpTP",
      "include_colab_link": true
    },
    "kernelspec": {
      "name": "python3",
      "display_name": "Python 3"
    },
    "language_info": {
      "name": "python"
    }
  },
  "cells": [
    {
      "cell_type": "markdown",
      "metadata": {
        "id": "view-in-github",
        "colab_type": "text"
      },
      "source": [
        "<a href=\"https://colab.research.google.com/github/kluless13/paper/blob/main/yolov7.ipynb\" target=\"_parent\"><img src=\"https://colab.research.google.com/assets/colab-badge.svg\" alt=\"Open In Colab\"/></a>"
      ]
    },
    {
      "cell_type": "markdown",
      "source": [
        "## 1. Install dependencies"
      ],
      "metadata": {
        "id": "NAoyBCYqroEW"
      }
    },
    {
      "cell_type": "markdown",
      "source": [
        "#### 1.1. Mounting Drive"
      ],
      "metadata": {
        "id": "viYF6kIqr4LI"
      }
    },
    {
      "cell_type": "code",
      "source": [
        "from google.colab import drive\n",
        "drive.mount('/content/gdrive')"
      ],
      "metadata": {
        "colab": {
          "base_uri": "https://localhost:8080/"
        },
        "id": "4KqgDlArr1sy",
        "outputId": "56f81466-4997-4a83-bece-b05d0a6f7b5b"
      },
      "execution_count": 1,
      "outputs": [
        {
          "output_type": "stream",
          "name": "stdout",
          "text": [
            "Mounted at /content/gdrive\n"
          ]
        }
      ]
    },
    {
      "cell_type": "markdown",
      "source": [
        "#### 1.2. Installing dependencies"
      ],
      "metadata": {
        "id": "bggwUtafsGuE"
      }
    },
    {
      "cell_type": "code",
      "source": [
        "import os\n",
        "HOME = \"/content/gdrive/MyDrive\"\n",
        "print(HOME)"
      ],
      "metadata": {
        "colab": {
          "base_uri": "https://localhost:8080/"
        },
        "id": "zlByE4TRsP76",
        "outputId": "cd264ef9-409f-49db-a5b1-ae93c1bf7dd7"
      },
      "execution_count": 5,
      "outputs": [
        {
          "output_type": "stream",
          "name": "stdout",
          "text": [
            "/content/gdrive/MyDrive\n"
          ]
        }
      ]
    },
    {
      "cell_type": "code",
      "source": [
        "!pip install -r reqs1.txt\n",
        "!pip install roboflow"
      ],
      "metadata": {
        "id": "LNYI9lljw872"
      },
      "execution_count": null,
      "outputs": []
    },
    {
      "cell_type": "code",
      "source": [
        "# instead of reqs1\n",
        "# pip install matplotlib>=3.2.2 numpy>=1.18.5 opencv-python>=4.1.1 Pillow>=7.1.2 PyYAML>=5.3.1 requests>=2.23.0 scipy>=1.4.1 torch>=1.7.0,!=1.12.0 torchvision>=0.8.1,!=0.13.0 tqdm>=4.41.0 protobuf<4.21.3 tensorboard>=2.4.1 pandas>=1.1.4 seaborn>=0.11.0 ipython psutil thop"
      ],
      "metadata": {
        "id": "fiTlQHfX86bx"
      },
      "execution_count": null,
      "outputs": []
    },
    {
      "cell_type": "markdown",
      "source": [
        "## 2. Dataset"
      ],
      "metadata": {
        "id": "-YbufC-ht2ME"
      }
    },
    {
      "cell_type": "code",
      "source": [
        "%cd {HOME}\n",
        "\n",
        "# roboflow apis"
      ],
      "metadata": {
        "id": "uaCbHJnZt88j"
      },
      "execution_count": null,
      "outputs": []
    },
    {
      "cell_type": "markdown",
      "source": [
        "## 3. YOLOv7 Training"
      ],
      "metadata": {
        "id": "CT-OPsm6utG4"
      }
    },
    {
      "cell_type": "markdown",
      "source": [
        "### 3.1. Model 1 - YOLOv7"
      ],
      "metadata": {
        "id": "EZ5cGPsGuy9a"
      }
    },
    {
      "cell_type": "code",
      "source": [
        "%cd {HOME}\n",
        "%mkdir yolov7\n",
        "%cd {HOME}/yolov7"
      ],
      "metadata": {
        "id": "ewgEhjAUvbgM"
      },
      "execution_count": null,
      "outputs": []
    },
    {
      "cell_type": "code",
      "source": [
        "!wget -P {HOME}/yolov7 https://github.com/WongKinYiu/yolov7/releases/download/v0.1/yolov7.pt"
      ],
      "metadata": {
        "id": "OE1pSMOuvrxT"
      },
      "execution_count": null,
      "outputs": []
    },
    {
      "cell_type": "markdown",
      "source": [
        "#### Training"
      ],
      "metadata": {
        "id": "UzZU6t0_0ZHx"
      }
    },
    {
      "cell_type": "code",
      "source": [
        "%cd {HOME}/yolov7\n",
        "\n",
        "#Roboflow APIs"
      ],
      "metadata": {
        "id": "E4sS2FT3-ee3"
      },
      "execution_count": null,
      "outputs": []
    },
    {
      "cell_type": "code",
      "source": [
        "!python train.py --batch 16 --cfg cfg/training/yolov7.yaml --epochs 55 --data {dataset.location}/data.yaml --weights 'yolov7.pt' --device 0"
      ],
      "metadata": {
        "id": "RgQ-lnLR0dSm"
      },
      "execution_count": null,
      "outputs": []
    },
    {
      "cell_type": "markdown",
      "source": [
        "#### Evaluation\n",
        "F1 Score\n",
        "Precision-Recall Curve\n",
        "Confusion Matrix"
      ],
      "metadata": {
        "id": "Xd0FolAR3Ge8"
      }
    },
    {
      "cell_type": "code",
      "source": [
        "from IPython.display import Image\n",
        "\n",
        "display(Image(\"{HOME}/yolov7/runs/train/exp/F1_curve.png\", width=400, height=400))\n",
        "display(Image(\"{HOME}/yolov7/runs/train/exp/PR_curve.png\", width=400, height=400))\n",
        "display(Image(\"{HOME}/yolov7/runs/train/exp/confusion_matrix.png\", width=500, height=500))"
      ],
      "metadata": {
        "id": "wsUWTaw63SQC"
      },
      "execution_count": null,
      "outputs": []
    },
    {
      "cell_type": "markdown",
      "source": [
        "### 3.2. Model 2 - YOLOv7x"
      ],
      "metadata": {
        "id": "rFWYEAKPzFCK"
      }
    },
    {
      "cell_type": "code",
      "source": [
        "%cd {HOME}\n",
        "%mkdir yolov7x\n",
        "%cd {HOME}/yolov7x"
      ],
      "metadata": {
        "id": "wbXuTnCfzMeo"
      },
      "execution_count": null,
      "outputs": []
    },
    {
      "cell_type": "code",
      "source": [
        "!wget -P {HOME}/yolov7x https://github.com/WongKinYiu/yolov7/releases/download/v0.1/yolov7x.pt"
      ],
      "metadata": {
        "id": "Jq3t5oQDzMtA"
      },
      "execution_count": null,
      "outputs": []
    },
    {
      "cell_type": "markdown",
      "source": [
        "#### Training"
      ],
      "metadata": {
        "id": "IqjKi8iE0yc9"
      }
    },
    {
      "cell_type": "code",
      "source": [
        "%cd {HOME}/yolov7x\n",
        "\n",
        "# Roboflow APIs"
      ],
      "metadata": {
        "id": "8NmmRySb-tjB"
      },
      "execution_count": null,
      "outputs": []
    },
    {
      "cell_type": "code",
      "source": [
        "!python train.py --batch 16 --cfg cfg/training/yolov7x.yaml --epochs 55 --data {dataset.location}/data.yaml --weights 'yolov7x.pt' --device 0"
      ],
      "metadata": {
        "id": "MgXToASr0xdJ"
      },
      "execution_count": null,
      "outputs": []
    },
    {
      "cell_type": "markdown",
      "source": [
        "#### Evaluation\n",
        "F1 Score\n",
        "Precision-Recall Curve\n",
        "Confusion Matrix"
      ],
      "metadata": {
        "id": "yetXLE7E3TUF"
      }
    },
    {
      "cell_type": "code",
      "source": [
        "from IPython.display import Image\n",
        "\n",
        "display(Image(\"{HOME}/yolov7x/runs/train/exp/F1_curve.png\", width=400, height=400))\n",
        "display(Image(\"{HOME}/yolov7x/runs/train/exp/PR_curve.png\", width=400, height=400))\n",
        "display(Image(\"{HOME}/yolov7x/runs/train/exp/confusion_matrix.png\", width=500, height=500))"
      ],
      "metadata": {
        "id": "7UED0Dgk3UYe"
      },
      "execution_count": null,
      "outputs": []
    },
    {
      "cell_type": "markdown",
      "source": [
        "### 3.3. Model 3 - YOLOv7-w6"
      ],
      "metadata": {
        "id": "ewzn_zVCzU8z"
      }
    },
    {
      "cell_type": "code",
      "source": [
        "%cd {HOME}\n",
        "%mkdir yolov7-w6\n",
        "%cd {HOME}/yolov7-w6"
      ],
      "metadata": {
        "id": "EnQ6k7qzzbGK"
      },
      "execution_count": null,
      "outputs": []
    },
    {
      "cell_type": "code",
      "source": [
        "!wget -P {HOME}/yolov7-w6 https://github.com/WongKinYiu/yolov7/releases/download/v0.1/yolov7-w6.pt"
      ],
      "metadata": {
        "id": "4pd1NXGIzdZc"
      },
      "execution_count": null,
      "outputs": []
    },
    {
      "cell_type": "markdown",
      "source": [
        "#### Training"
      ],
      "metadata": {
        "id": "gvF9guLB02uD"
      }
    },
    {
      "cell_type": "code",
      "source": [
        "%cd {HOME}/yolov7-w6\n",
        "\n",
        "# Roboflow APIs"
      ],
      "metadata": {
        "id": "ME-VL-32_Mnf"
      },
      "execution_count": null,
      "outputs": []
    },
    {
      "cell_type": "code",
      "source": [
        "!python train.py --batch 16 --cfg cfg/training/yolov7-w6.yaml --epochs 55 --data {dataset.location}/data.yaml --weights 'yolov-w6.pt' --device 0"
      ],
      "metadata": {
        "id": "Ng5RhGSV04Rx"
      },
      "execution_count": null,
      "outputs": []
    },
    {
      "cell_type": "markdown",
      "source": [
        "#### Evaluation\n",
        "F1 Score\n",
        "Precision-Recall Curve\n",
        "Confusion Matrix"
      ],
      "metadata": {
        "id": "Dvx43JAf3bZL"
      }
    },
    {
      "cell_type": "code",
      "source": [
        "from IPython.display import Image\n",
        "\n",
        "display(Image(\"{HOME}/yolov7-w6/runs/train/exp/F1_curve.png\", width=400, height=400))\n",
        "display(Image(\"{HOME}/yolov7-w6/runs/train/exp/PR_curve.png\", width=400, height=400))\n",
        "display(Image(\"{HOME}/yolov7-w6/runs/train/exp/confusion_matrix.png\", width=500, height=500))"
      ],
      "metadata": {
        "id": "Ur3JW2Y63cal"
      },
      "execution_count": null,
      "outputs": []
    },
    {
      "cell_type": "markdown",
      "source": [
        "### 3.4. Model 4 - YOLOv7-e6"
      ],
      "metadata": {
        "id": "LFFqoAHczhhx"
      }
    },
    {
      "cell_type": "code",
      "source": [
        "%cd {HOME}\n",
        "%mkdir yolov7-e6\n",
        "%cd {HOME}/yolov7-e6"
      ],
      "metadata": {
        "id": "yOdF9KmzzsJP"
      },
      "execution_count": null,
      "outputs": []
    },
    {
      "cell_type": "code",
      "source": [
        "!wget -P {HOME}/yolov7-e6 https://github.com/WongKinYiu/yolov7/releases/download/v0.1/yolov7-e6.pt"
      ],
      "metadata": {
        "id": "t04KFDu4ztbJ"
      },
      "execution_count": null,
      "outputs": []
    },
    {
      "cell_type": "markdown",
      "source": [
        "#### Training"
      ],
      "metadata": {
        "id": "1r7cT6xU07C4"
      }
    },
    {
      "cell_type": "code",
      "source": [
        "%cd {HOME}/yolov7-e6\n",
        "\n",
        "# Roboflow APIs"
      ],
      "metadata": {
        "id": "0DPjBavx_VqW"
      },
      "execution_count": null,
      "outputs": []
    },
    {
      "cell_type": "code",
      "source": [
        "!python train.py --batch 16 --cfg cfg/training/yolov7-e6.yaml --epochs 55 --data {dataset.location}/data.yaml --weights 'yolov7-e6.pt' --device 0"
      ],
      "metadata": {
        "id": "BOxmzv-y08bI"
      },
      "execution_count": null,
      "outputs": []
    },
    {
      "cell_type": "markdown",
      "source": [
        "#### Evaluation\n",
        "F1 Score\n",
        "Precision-Recall Curve\n",
        "Confusion Matrix"
      ],
      "metadata": {
        "id": "bLzahNQR3dXi"
      }
    },
    {
      "cell_type": "code",
      "source": [
        "from IPython.display import Image\n",
        "\n",
        "display(Image(\"{HOME}/yolov7-e6/runs/train/exp/F1_curve.png\", width=400, height=400))\n",
        "display(Image(\"{HOME}/yolov7-e6/runs/train/exp/PR_curve.png\", width=400, height=400))\n",
        "display(Image(\"{HOME}/yolov7-e6/runs/train/exp/confusion_matrix.png\", width=500, height=500))"
      ],
      "metadata": {
        "id": "0S5BVTvy3eM1"
      },
      "execution_count": null,
      "outputs": []
    },
    {
      "cell_type": "markdown",
      "source": [
        "### 3.5. Model 5 - YOLOv7-d6"
      ],
      "metadata": {
        "id": "9n6mWKalzxAm"
      }
    },
    {
      "cell_type": "code",
      "source": [
        "%cd {HOME}\n",
        "%mkdir yolov7-d6\n",
        "%cd {HOME}/yolov7-d6"
      ],
      "metadata": {
        "id": "LQSKwNKXz11s"
      },
      "execution_count": null,
      "outputs": []
    },
    {
      "cell_type": "code",
      "source": [
        "!wget -P {HOME}/yolov7-d6 https://github.com/WongKinYiu/yolov7/releases/download/v0.1/yolov7-d6.pt"
      ],
      "metadata": {
        "id": "4GIwjf3ez2DP"
      },
      "execution_count": null,
      "outputs": []
    },
    {
      "cell_type": "markdown",
      "source": [
        "#### Training"
      ],
      "metadata": {
        "id": "ZYhMxyTy1Db6"
      }
    },
    {
      "cell_type": "code",
      "source": [
        "%cd {HOME}/yolov7-d6\n",
        "\n",
        "# Roboflow APIs"
      ],
      "metadata": {
        "id": "b2bI13Lk_Z9Y"
      },
      "execution_count": null,
      "outputs": []
    },
    {
      "cell_type": "code",
      "source": [
        "!python train.py --batch 16 --cfg cfg/training/yolov7-d6.yaml --epochs 55 --data {dataset.location}/data.yaml --weights 'yolov7-d6.pt' --device 0"
      ],
      "metadata": {
        "id": "GmthF_VH1Fye"
      },
      "execution_count": null,
      "outputs": []
    },
    {
      "cell_type": "markdown",
      "source": [
        "#### Evaluation\n",
        "F1 Score\n",
        "Precision-Recall Curve\n",
        "Confusion Matrix"
      ],
      "metadata": {
        "id": "dwpqw9tA3ro8"
      }
    },
    {
      "cell_type": "code",
      "source": [
        "from IPython.display import Image\n",
        "\n",
        "display(Image(\"{HOME}/yolov7-d6/runs/train/exp/F1_curve.png\", width=400, height=400))\n",
        "display(Image(\"{HOME}/yolov7-d6/runs/train/exp/PR_curve.png\", width=400, height=400))\n",
        "display(Image(\"{HOME}/yolov7-d6/runs/train/exp/confusion_matrix.png\", width=500, height=500))"
      ],
      "metadata": {
        "id": "tDwa8_rV3uWD"
      },
      "execution_count": null,
      "outputs": []
    },
    {
      "cell_type": "markdown",
      "source": [
        "### 3.5. Model 6 - YOLOv7-e6e"
      ],
      "metadata": {
        "id": "4C9dJmyHz9Pf"
      }
    },
    {
      "cell_type": "code",
      "source": [
        "%cd {HOME}\n",
        "%mkdir yolov7-e6e\n",
        "%cd {HOME}/yolov7-e6e"
      ],
      "metadata": {
        "id": "2XIsEKiL0D2y"
      },
      "execution_count": null,
      "outputs": []
    },
    {
      "cell_type": "code",
      "source": [
        "!wget -P {HOME}/yolov7-e6e https://github.com/WongKinYiu/yolov7/releases/download/v0.1/yolov7-e6e.pt"
      ],
      "metadata": {
        "id": "6SACs5G40EJJ"
      },
      "execution_count": null,
      "outputs": []
    },
    {
      "cell_type": "markdown",
      "source": [
        "#### Training"
      ],
      "metadata": {
        "id": "iPMWAgK01IPs"
      }
    },
    {
      "cell_type": "code",
      "source": [
        "%cd {HOME}/yolov7-e6e\n",
        "\n",
        "# Roboflow APIs"
      ],
      "metadata": {
        "id": "UCmjkNhF_4NN"
      },
      "execution_count": null,
      "outputs": []
    },
    {
      "cell_type": "code",
      "source": [
        "!python train.py --batch 16 --cfg cfg/training/yolov7-e6e.yaml --epochs 55 --data {dataset.location}/data.yaml --weights 'yolov7-e6e.pt' --device 0"
      ],
      "metadata": {
        "id": "zP0RTqNm1JsJ"
      },
      "execution_count": null,
      "outputs": []
    },
    {
      "cell_type": "markdown",
      "source": [
        "#### Evaluation\n",
        "F1 Score\n",
        "Precision-Recall Curve\n",
        "Confusion Matrix"
      ],
      "metadata": {
        "id": "ZszAhVUz3vBb"
      }
    },
    {
      "cell_type": "code",
      "source": [
        "from IPython.display import Image\n",
        "\n",
        "display(Image(\"{HOME}/yolov7-e6e/runs/train/exp/F1_curve.png\", width=400, height=400))\n",
        "display(Image(\"{HOME}/yolov7-e6e/runs/train/exp/PR_curve.png\", width=400, height=400))\n",
        "display(Image(\"{HOME}/yolov7-e6e/runs/train/exp/confusion_matrix.png\", width=500, height=500))"
      ],
      "metadata": {
        "id": "UvMBwdg83vgt"
      },
      "execution_count": null,
      "outputs": []
    }
  ]
}